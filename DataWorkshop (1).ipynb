{
  "nbformat": 4,
  "nbformat_minor": 0,
  "metadata": {
    "colab": {
      "name": "DataWorkshop",
      "provenance": [],
      "collapsed_sections": [
        "U-SjFHBogpqt"
      ],
      "toc_visible": true
    },
    "kernelspec": {
      "name": "python3",
      "display_name": "Python 3"
    }
  },
  "cells": [
    {
      "cell_type": "markdown",
      "metadata": {
        "id": "7GpE0Qd-gTWk",
        "colab_type": "text"
      },
      "source": [
        "## DataSet Source\n",
        "https://www.glassdoor.com/research/job-market-report-historical/\n",
        "\n",
        "- Historical information on housing from glassdoor\n",
        "- Metro areas and most common and well paid jobs over time"
      ]
    },
    {
      "cell_type": "markdown",
      "metadata": {
        "id": "U-SjFHBogpqt",
        "colab_type": "text"
      },
      "source": [
        "## Loading in the data set"
      ]
    },
    {
      "cell_type": "code",
      "metadata": {
        "id": "XXKk6L8nfoHC",
        "colab_type": "code",
        "outputId": "f73ca2d7-aefc-4109-dd9f-f62a7a94eb60",
        "colab": {
          "base_uri": "https://localhost:8080/"
        }
      },
      "source": [
        "# Load in the dataset\n",
        "import pandas as pd\n",
        "raw_data = pd.read_csv(\"glassdoor.csv\")\n",
        "raw_data.head()"
      ],
      "execution_count": 0,
      "outputs": [
        {
          "output_type": "execute_result",
          "data": {
            "text/html": [
              "<div>\n",
              "<style scoped>\n",
              "    .dataframe tbody tr th:only-of-type {\n",
              "        vertical-align: middle;\n",
              "    }\n",
              "\n",
              "    .dataframe tbody tr th {\n",
              "        vertical-align: top;\n",
              "    }\n",
              "\n",
              "    .dataframe thead th {\n",
              "        text-align: right;\n",
              "    }\n",
              "</style>\n",
              "<table border=\"1\" class=\"dataframe\">\n",
              "  <thead>\n",
              "    <tr style=\"text-align: right;\">\n",
              "      <th></th>\n",
              "      <th>Metro</th>\n",
              "      <th>Dimension Type</th>\n",
              "      <th>Month</th>\n",
              "      <th>Dimension</th>\n",
              "      <th>Measure</th>\n",
              "      <th>Value</th>\n",
              "      <th>YoY</th>\n",
              "    </tr>\n",
              "  </thead>\n",
              "  <tbody>\n",
              "    <tr>\n",
              "      <th>0</th>\n",
              "      <td>National</td>\n",
              "      <td>Quick Facts</td>\n",
              "      <td>2020-01</td>\n",
              "      <td>U.S. Job Openings</td>\n",
              "      <td>U.S. Job Openings</td>\n",
              "      <td>5,612,853</td>\n",
              "      <td>-3.1%</td>\n",
              "    </tr>\n",
              "    <tr>\n",
              "      <th>1</th>\n",
              "      <td>National</td>\n",
              "      <td>Quick Facts</td>\n",
              "      <td>2020-01</td>\n",
              "      <td>U.S. Median Pay</td>\n",
              "      <td>U.S. Median Pay</td>\n",
              "      <td>$ 54,430</td>\n",
              "      <td>2.6%</td>\n",
              "    </tr>\n",
              "    <tr>\n",
              "      <th>2</th>\n",
              "      <td>Atlanta</td>\n",
              "      <td>Quick Facts</td>\n",
              "      <td>2020-01</td>\n",
              "      <td>Metro Job Openings</td>\n",
              "      <td>Metro Job Openings</td>\n",
              "      <td>108,545</td>\n",
              "      <td>-12.5%</td>\n",
              "    </tr>\n",
              "    <tr>\n",
              "      <th>3</th>\n",
              "      <td>Atlanta</td>\n",
              "      <td>Quick Facts</td>\n",
              "      <td>2020-01</td>\n",
              "      <td>U.S. Job Openings</td>\n",
              "      <td>U.S. Job Openings</td>\n",
              "      <td>5,612,853</td>\n",
              "      <td>-3.1%</td>\n",
              "    </tr>\n",
              "    <tr>\n",
              "      <th>4</th>\n",
              "      <td>Atlanta</td>\n",
              "      <td>Quick Facts</td>\n",
              "      <td>2020-01</td>\n",
              "      <td>Metro Median Pay</td>\n",
              "      <td>Metro Median Pay</td>\n",
              "      <td>$ 56,521</td>\n",
              "      <td>2.9%</td>\n",
              "    </tr>\n",
              "  </tbody>\n",
              "</table>\n",
              "</div>"
            ],
            "text/plain": [
              "      Metro Dimension Type    Month  ...             Measure      Value     YoY\n",
              "0  National    Quick Facts  2020-01  ...   U.S. Job Openings  5,612,853   -3.1%\n",
              "1  National    Quick Facts  2020-01  ...     U.S. Median Pay   $ 54,430    2.6%\n",
              "2   Atlanta    Quick Facts  2020-01  ...  Metro Job Openings    108,545  -12.5%\n",
              "3   Atlanta    Quick Facts  2020-01  ...   U.S. Job Openings  5,612,853   -3.1%\n",
              "4   Atlanta    Quick Facts  2020-01  ...    Metro Median Pay   $ 56,521    2.9%\n",
              "\n",
              "[5 rows x 7 columns]"
            ]
          },
          "metadata": {
            "tags": []
          },
          "execution_count": 120
        }
      ]
    },
    {
      "cell_type": "markdown",
      "metadata": {
        "id": "SBSmLAjhiOEe",
        "colab_type": "text"
      },
      "source": [
        "## Now lets look at what we got"
      ]
    },
    {
      "cell_type": "code",
      "metadata": {
        "id": "45RQrpufidEg",
        "colab_type": "code",
        "colab": {}
      },
      "source": [
        "# Setup charting library\n",
        "import matplotlib.pyplot as plt\n",
        "%matplotlib inline"
      ],
      "execution_count": 0,
      "outputs": []
    },
    {
      "cell_type": "markdown",
      "metadata": {
        "id": "M7aXLAmJpR6L",
        "colab_type": "text"
      },
      "source": [
        "### Quick Facts"
      ]
    },
    {
      "cell_type": "code",
      "metadata": {
        "id": "QLStMO5Ig59t",
        "colab_type": "code",
        "outputId": "4d3b420b-8753-4e7e-a7c4-e383cf79a5a4",
        "colab": {
          "base_uri": "https://localhost:8080/",
          "height": 204
        }
      },
      "source": [
        "# Quick Facts\n",
        "quickFacts_raw = raw_data[raw_data['Dimension Type']=='Quick Facts']\n",
        "\n",
        "# Grab the two types of 'quick facts data'\n",
        "quickFacts_jobOpenings = quickFacts_raw[ quickFacts['Dimension']=='Metro Job Openings']\n",
        "quickFacts_jobPay = quickFacts_raw[ quickFacts['Dimension']=='Metro Median Pay']\n",
        "\n",
        "quickFacts_jobPay.head()\n"
      ],
      "execution_count": 0,
      "outputs": [
        {
          "output_type": "execute_result",
          "data": {
            "text/html": [
              "<div>\n",
              "<style scoped>\n",
              "    .dataframe tbody tr th:only-of-type {\n",
              "        vertical-align: middle;\n",
              "    }\n",
              "\n",
              "    .dataframe tbody tr th {\n",
              "        vertical-align: top;\n",
              "    }\n",
              "\n",
              "    .dataframe thead th {\n",
              "        text-align: right;\n",
              "    }\n",
              "</style>\n",
              "<table border=\"1\" class=\"dataframe\">\n",
              "  <thead>\n",
              "    <tr style=\"text-align: right;\">\n",
              "      <th></th>\n",
              "      <th>Metro</th>\n",
              "      <th>Dimension Type</th>\n",
              "      <th>Month</th>\n",
              "      <th>Dimension</th>\n",
              "      <th>Measure</th>\n",
              "      <th>Value</th>\n",
              "      <th>YoY</th>\n",
              "    </tr>\n",
              "  </thead>\n",
              "  <tbody>\n",
              "    <tr>\n",
              "      <th>4</th>\n",
              "      <td>Atlanta</td>\n",
              "      <td>Quick Facts</td>\n",
              "      <td>2020-01</td>\n",
              "      <td>Metro Median Pay</td>\n",
              "      <td>Metro Median Pay</td>\n",
              "      <td>$ 56,521</td>\n",
              "      <td>2.9%</td>\n",
              "    </tr>\n",
              "    <tr>\n",
              "      <th>8</th>\n",
              "      <td>New York City</td>\n",
              "      <td>Quick Facts</td>\n",
              "      <td>2020-01</td>\n",
              "      <td>Metro Median Pay</td>\n",
              "      <td>Metro Median Pay</td>\n",
              "      <td>$ 65,990</td>\n",
              "      <td>3.6%</td>\n",
              "    </tr>\n",
              "    <tr>\n",
              "      <th>12</th>\n",
              "      <td>Los Angeles</td>\n",
              "      <td>Quick Facts</td>\n",
              "      <td>2020-01</td>\n",
              "      <td>Metro Median Pay</td>\n",
              "      <td>Metro Median Pay</td>\n",
              "      <td>$ 64,277</td>\n",
              "      <td>3.5%</td>\n",
              "    </tr>\n",
              "    <tr>\n",
              "      <th>16</th>\n",
              "      <td>Philadelphia</td>\n",
              "      <td>Quick Facts</td>\n",
              "      <td>2020-01</td>\n",
              "      <td>Metro Median Pay</td>\n",
              "      <td>Metro Median Pay</td>\n",
              "      <td>$ 57,719</td>\n",
              "      <td>2.0%</td>\n",
              "    </tr>\n",
              "    <tr>\n",
              "      <th>20</th>\n",
              "      <td>Houston</td>\n",
              "      <td>Quick Facts</td>\n",
              "      <td>2020-01</td>\n",
              "      <td>Metro Median Pay</td>\n",
              "      <td>Metro Median Pay</td>\n",
              "      <td>$ 57,690</td>\n",
              "      <td>3.3%</td>\n",
              "    </tr>\n",
              "  </tbody>\n",
              "</table>\n",
              "</div>"
            ],
            "text/plain": [
              "            Metro Dimension Type    Month  ...           Measure     Value   YoY\n",
              "4         Atlanta    Quick Facts  2020-01  ...  Metro Median Pay  $ 56,521  2.9%\n",
              "8   New York City    Quick Facts  2020-01  ...  Metro Median Pay  $ 65,990  3.6%\n",
              "12    Los Angeles    Quick Facts  2020-01  ...  Metro Median Pay  $ 64,277  3.5%\n",
              "16   Philadelphia    Quick Facts  2020-01  ...  Metro Median Pay  $ 57,719  2.0%\n",
              "20        Houston    Quick Facts  2020-01  ...  Metro Median Pay  $ 57,690  3.3%\n",
              "\n",
              "[5 rows x 7 columns]"
            ]
          },
          "metadata": {
            "tags": []
          },
          "execution_count": 122
        }
      ]
    },
    {
      "cell_type": "code",
      "metadata": {
        "id": "GzD9BjmphDkA",
        "colab_type": "code",
        "outputId": "71286fb8-975c-4212-e09e-86a22b744a82",
        "colab": {
          "base_uri": "https://localhost:8080/",
          "height": 153
        }
      },
      "source": [
        "# Lets look at types\n",
        "quickFacts_jobPay.dtypes"
      ],
      "execution_count": 0,
      "outputs": [
        {
          "output_type": "execute_result",
          "data": {
            "text/plain": [
              "Metro             object\n",
              "Dimension Type    object\n",
              "Month             object\n",
              "Dimension         object\n",
              "Measure           object\n",
              "Value             object\n",
              "YoY               object\n",
              "dtype: object"
            ]
          },
          "metadata": {
            "tags": []
          },
          "execution_count": 123
        }
      ]
    },
    {
      "cell_type": "code",
      "metadata": {
        "id": "YcJXq5hajNk7",
        "colab_type": "code",
        "outputId": "0c442756-3bf2-4a00-f16a-c31dc874930c",
        "colab": {
          "base_uri": "https://localhost:8080/",
          "height": 204
        }
      },
      "source": [
        "# Switch them to propper types\n",
        "import re\n",
        "def cleanNumber (num): return re.sub(\"[^0-9\\.-]\", \"\", str(num))\n",
        "\n",
        "valueColCleaned = quickFacts_jobPay['Value'].apply( cleanNumber ).values\n",
        "quickFacts_jobPay.insert(4, \"Average Salary\", valueColCleaned )\n",
        "quickFacts_jobPay = quickFacts_jobPay.astype({'Average Salary' : float})\n",
        "\n",
        "valueColCleaned = quickFacts_jobOpenings['Value'].apply( cleanNumber ).values\n",
        "quickFacts_jobOpenings.insert(4, \"Job Openings\", valueColCleaned )\n",
        "quickFacts_jobOpenings = quickFacts_jobOpenings.astype({'Job Openings' : float})\n",
        "\n",
        "quickFacts_jobPay.head()"
      ],
      "execution_count": 0,
      "outputs": [
        {
          "output_type": "execute_result",
          "data": {
            "text/html": [
              "<div>\n",
              "<style scoped>\n",
              "    .dataframe tbody tr th:only-of-type {\n",
              "        vertical-align: middle;\n",
              "    }\n",
              "\n",
              "    .dataframe tbody tr th {\n",
              "        vertical-align: top;\n",
              "    }\n",
              "\n",
              "    .dataframe thead th {\n",
              "        text-align: right;\n",
              "    }\n",
              "</style>\n",
              "<table border=\"1\" class=\"dataframe\">\n",
              "  <thead>\n",
              "    <tr style=\"text-align: right;\">\n",
              "      <th></th>\n",
              "      <th>Metro</th>\n",
              "      <th>Dimension Type</th>\n",
              "      <th>Month</th>\n",
              "      <th>Dimension</th>\n",
              "      <th>Average Salary</th>\n",
              "      <th>Measure</th>\n",
              "      <th>Value</th>\n",
              "      <th>YoY</th>\n",
              "    </tr>\n",
              "  </thead>\n",
              "  <tbody>\n",
              "    <tr>\n",
              "      <th>4</th>\n",
              "      <td>Atlanta</td>\n",
              "      <td>Quick Facts</td>\n",
              "      <td>2020-01</td>\n",
              "      <td>Metro Median Pay</td>\n",
              "      <td>56521.0</td>\n",
              "      <td>Metro Median Pay</td>\n",
              "      <td>$ 56,521</td>\n",
              "      <td>2.9%</td>\n",
              "    </tr>\n",
              "    <tr>\n",
              "      <th>8</th>\n",
              "      <td>New York City</td>\n",
              "      <td>Quick Facts</td>\n",
              "      <td>2020-01</td>\n",
              "      <td>Metro Median Pay</td>\n",
              "      <td>65990.0</td>\n",
              "      <td>Metro Median Pay</td>\n",
              "      <td>$ 65,990</td>\n",
              "      <td>3.6%</td>\n",
              "    </tr>\n",
              "    <tr>\n",
              "      <th>12</th>\n",
              "      <td>Los Angeles</td>\n",
              "      <td>Quick Facts</td>\n",
              "      <td>2020-01</td>\n",
              "      <td>Metro Median Pay</td>\n",
              "      <td>64277.0</td>\n",
              "      <td>Metro Median Pay</td>\n",
              "      <td>$ 64,277</td>\n",
              "      <td>3.5%</td>\n",
              "    </tr>\n",
              "    <tr>\n",
              "      <th>16</th>\n",
              "      <td>Philadelphia</td>\n",
              "      <td>Quick Facts</td>\n",
              "      <td>2020-01</td>\n",
              "      <td>Metro Median Pay</td>\n",
              "      <td>57719.0</td>\n",
              "      <td>Metro Median Pay</td>\n",
              "      <td>$ 57,719</td>\n",
              "      <td>2.0%</td>\n",
              "    </tr>\n",
              "    <tr>\n",
              "      <th>20</th>\n",
              "      <td>Houston</td>\n",
              "      <td>Quick Facts</td>\n",
              "      <td>2020-01</td>\n",
              "      <td>Metro Median Pay</td>\n",
              "      <td>57690.0</td>\n",
              "      <td>Metro Median Pay</td>\n",
              "      <td>$ 57,690</td>\n",
              "      <td>3.3%</td>\n",
              "    </tr>\n",
              "  </tbody>\n",
              "</table>\n",
              "</div>"
            ],
            "text/plain": [
              "            Metro Dimension Type    Month  ...           Measure     Value   YoY\n",
              "4         Atlanta    Quick Facts  2020-01  ...  Metro Median Pay  $ 56,521  2.9%\n",
              "8   New York City    Quick Facts  2020-01  ...  Metro Median Pay  $ 65,990  3.6%\n",
              "12    Los Angeles    Quick Facts  2020-01  ...  Metro Median Pay  $ 64,277  3.5%\n",
              "16   Philadelphia    Quick Facts  2020-01  ...  Metro Median Pay  $ 57,719  2.0%\n",
              "20        Houston    Quick Facts  2020-01  ...  Metro Median Pay  $ 57,690  3.3%\n",
              "\n",
              "[5 rows x 8 columns]"
            ]
          },
          "metadata": {
            "tags": []
          },
          "execution_count": 124
        }
      ]
    },
    {
      "cell_type": "code",
      "metadata": {
        "id": "R-Ita1EMney5",
        "colab_type": "code",
        "outputId": "4fceb5d2-fb6b-4cde-a6d2-60df5848d88e",
        "colab": {
          "base_uri": "https://localhost:8080/",
          "height": 170
        }
      },
      "source": [
        "# Lets look at types again\n",
        "quickFacts_jobOpenings.dtypes"
      ],
      "execution_count": 0,
      "outputs": [
        {
          "output_type": "execute_result",
          "data": {
            "text/plain": [
              "Metro              object\n",
              "Dimension Type     object\n",
              "Month              object\n",
              "Dimension          object\n",
              "Job Openings      float64\n",
              "Measure            object\n",
              "Value              object\n",
              "YoY                object\n",
              "dtype: object"
            ]
          },
          "metadata": {
            "tags": []
          },
          "execution_count": 125
        }
      ]
    },
    {
      "cell_type": "code",
      "metadata": {
        "id": "aLQFv9KRkFb0",
        "colab_type": "code",
        "outputId": "a664341f-7137-4364-e68d-9b18c169bb62",
        "colab": {
          "base_uri": "https://localhost:8080/",
          "height": 368
        }
      },
      "source": [
        "# Do ploting of Salary information\n",
        "\n",
        "quickFacts_jobPay = quickFacts_jobPay.sort_values(\"Average Salary\", ascending=False)\n",
        "\n",
        "plot = quickFacts_jobPay.plot.bar(x='Metro', y='Average Salary')\n",
        "plot.set_ylim(50000, 80000)"
      ],
      "execution_count": 0,
      "outputs": [
        {
          "output_type": "execute_result",
          "data": {
            "text/plain": [
              "(50000, 80000)"
            ]
          },
          "metadata": {
            "tags": []
          },
          "execution_count": 126
        },
        {
          "output_type": "display_data",
          "data": {
            "image/png": "[encoded data removed]",
            "text/plain": [
              "<Figure size 432x288 with 1 Axes>"
            ]
          },
          "metadata": {
            "tags": []
          }
        }
      ]
    },
    {
      "cell_type": "code",
      "metadata": {
        "id": "pSSvqiXcnLcL",
        "colab_type": "code",
        "outputId": "70315e31-4604-4897-e22b-e3dc88418116",
        "colab": {
          "base_uri": "https://localhost:8080/",
          "height": 348
        }
      },
      "source": [
        "# Do ploting of Job Opening information\n",
        "\n",
        "quickFacts_jobOpenings = quickFacts_jobOpenings.sort_values(\"Job Openings\", ascending=False)\n",
        "\n",
        "plot = quickFacts_jobOpenings.plot.bar(x='Metro', y='Job Openings')"
      ],
      "execution_count": 0,
      "outputs": [
        {
          "output_type": "display_data",
          "data": {
            "image/png": "[encoded data removed]",
            "text/plain": [
              "<Figure size 432x288 with 1 Axes>"
            ]
          },
          "metadata": {
            "tags": []
          }
        }
      ]
    },
    {
      "cell_type": "markdown",
      "metadata": {
        "id": "oi80sDAopxea",
        "colab_type": "text"
      },
      "source": [
        "### Base Pay over Time"
      ]
    },
    {
      "cell_type": "code",
      "metadata": {
        "id": "AQkAuuZ7ouoa",
        "colab_type": "code",
        "outputId": "37cadb52-f93c-4041-e5ea-8e8ddd79197a",
        "colab": {
          "base_uri": "https://localhost:8080/",
          "height": 204
        }
      },
      "source": [
        "# Base Pay\n",
        "timeseries_raw = raw_data[raw_data['Dimension Type']=='Timeseries']\n",
        "medianBasePay_raw = timeseries_raw[ timeseries_raw['Measure'] == 'Median Base Pay']\n",
        "\n",
        "medianBasePay_raw.head()\n"
      ],
      "execution_count": 0,
      "outputs": [
        {
          "output_type": "execute_result",
          "data": {
            "text/html": [
              "<div>\n",
              "<style scoped>\n",
              "    .dataframe tbody tr th:only-of-type {\n",
              "        vertical-align: middle;\n",
              "    }\n",
              "\n",
              "    .dataframe tbody tr th {\n",
              "        vertical-align: top;\n",
              "    }\n",
              "\n",
              "    .dataframe thead th {\n",
              "        text-align: right;\n",
              "    }\n",
              "</style>\n",
              "<table border=\"1\" class=\"dataframe\">\n",
              "  <thead>\n",
              "    <tr style=\"text-align: right;\">\n",
              "      <th></th>\n",
              "      <th>Metro</th>\n",
              "      <th>Dimension Type</th>\n",
              "      <th>Month</th>\n",
              "      <th>Dimension</th>\n",
              "      <th>Measure</th>\n",
              "      <th>Value</th>\n",
              "      <th>YoY</th>\n",
              "    </tr>\n",
              "  </thead>\n",
              "  <tbody>\n",
              "    <tr>\n",
              "      <th>1439</th>\n",
              "      <td>U.S.</td>\n",
              "      <td>Timeseries</td>\n",
              "      <td>2020-01</td>\n",
              "      <td>Metro Median Base Pay</td>\n",
              "      <td>Median Base Pay</td>\n",
              "      <td>54430</td>\n",
              "      <td>NaN</td>\n",
              "    </tr>\n",
              "    <tr>\n",
              "      <th>1440</th>\n",
              "      <td>U.S.</td>\n",
              "      <td>Timeseries</td>\n",
              "      <td>2019-12</td>\n",
              "      <td>Metro Median Base Pay</td>\n",
              "      <td>Median Base Pay</td>\n",
              "      <td>54500.33333</td>\n",
              "      <td>NaN</td>\n",
              "    </tr>\n",
              "    <tr>\n",
              "      <th>1441</th>\n",
              "      <td>U.S.</td>\n",
              "      <td>Timeseries</td>\n",
              "      <td>2019-11</td>\n",
              "      <td>Metro Median Base Pay</td>\n",
              "      <td>Median Base Pay</td>\n",
              "      <td>54336.66667</td>\n",
              "      <td>NaN</td>\n",
              "    </tr>\n",
              "    <tr>\n",
              "      <th>1442</th>\n",
              "      <td>U.S.</td>\n",
              "      <td>Timeseries</td>\n",
              "      <td>2019-10</td>\n",
              "      <td>Metro Median Base Pay</td>\n",
              "      <td>Median Base Pay</td>\n",
              "      <td>54228.66667</td>\n",
              "      <td>NaN</td>\n",
              "    </tr>\n",
              "    <tr>\n",
              "      <th>1443</th>\n",
              "      <td>U.S.</td>\n",
              "      <td>Timeseries</td>\n",
              "      <td>2019-09</td>\n",
              "      <td>Metro Median Base Pay</td>\n",
              "      <td>Median Base Pay</td>\n",
              "      <td>54090.33333</td>\n",
              "      <td>NaN</td>\n",
              "    </tr>\n",
              "  </tbody>\n",
              "</table>\n",
              "</div>"
            ],
            "text/plain": [
              "     Metro Dimension Type    Month  ...          Measure        Value  YoY\n",
              "1439  U.S.     Timeseries  2020-01  ...  Median Base Pay        54430  NaN\n",
              "1440  U.S.     Timeseries  2019-12  ...  Median Base Pay  54500.33333  NaN\n",
              "1441  U.S.     Timeseries  2019-11  ...  Median Base Pay  54336.66667  NaN\n",
              "1442  U.S.     Timeseries  2019-10  ...  Median Base Pay  54228.66667  NaN\n",
              "1443  U.S.     Timeseries  2019-09  ...  Median Base Pay  54090.33333  NaN\n",
              "\n",
              "[5 rows x 7 columns]"
            ]
          },
          "metadata": {
            "tags": []
          },
          "execution_count": 128
        }
      ]
    },
    {
      "cell_type": "code",
      "metadata": {
        "id": "x5WJ99U4rAIi",
        "colab_type": "code",
        "outputId": "5f86bb99-9d84-46cc-aec7-f874b7c0e30f",
        "colab": {
          "base_uri": "https://localhost:8080/",
          "height": 153
        }
      },
      "source": [
        "# DataTypes\n",
        "medianBasePay_raw = medianBasePay_raw.astype({'Value' : float})\n",
        "medianBasePay_raw.dtypes"
      ],
      "execution_count": 0,
      "outputs": [
        {
          "output_type": "execute_result",
          "data": {
            "text/plain": [
              "Metro              object\n",
              "Dimension Type     object\n",
              "Month              object\n",
              "Dimension          object\n",
              "Measure            object\n",
              "Value             float64\n",
              "YoY                object\n",
              "dtype: object"
            ]
          },
          "metadata": {
            "tags": []
          },
          "execution_count": 129
        }
      ]
    },
    {
      "cell_type": "code",
      "metadata": {
        "id": "OcgXNLxbqSZ4",
        "colab_type": "code",
        "outputId": "f59b10e5-3147-4992-87c1-f2462b5cb59c",
        "colab": {
          "base_uri": "https://localhost:8080/",
          "height": 441
        }
      },
      "source": [
        "# Charting average pay over time\n",
        "\n",
        "basePay_USTotal = medianBasePay_raw[ medianBasePay_raw['Metro'] == 'U.S.' ]\n",
        "basePay_USTotal = basePay_USTotal.sort_values(\"Month\", ascending=True)\n",
        "\n",
        "plot = basePay_USTotal.plot.bar(x='Month', y='Value',figsize=(18,6))\n",
        "plot.set_ylim(40000, 70000)"
      ],
      "execution_count": 0,
      "outputs": [
        {
          "output_type": "execute_result",
          "data": {
            "text/plain": [
              "(40000, 70000)"
            ]
          },
          "metadata": {
            "tags": []
          },
          "execution_count": 130
        },
        {
          "output_type": "display_data",
          "data": {
            "image/png": "[encoded data removed]",
            "text/plain": [
              "<Figure size 1296x432 with 1 Axes>"
            ]
          },
          "metadata": {
            "tags": []
          }
        }
      ]
    },
    {
      "cell_type": "code",
      "metadata": {
        "id": "Ke8RGLD1q-dO",
        "colab_type": "code",
        "outputId": "bdc1287b-e3e6-4baa-8cca-c0232a9db3cb",
        "colab": {
          "base_uri": "https://localhost:8080/",
          "height": 441
        }
      },
      "source": [
        "# Charting pay over time for NYC vs USA Average\n",
        "\n",
        "basePay_NYCTotal = medianBasePay_raw[ medianBasePay_raw['Metro'] == 'New York City' ]\n",
        "basePay_NYCTotal = basePay_NYCTotal.sort_values(\"Month\", ascending=True)\n",
        "\n",
        "basePay_NYCTotal.insert(4, \"USAverage\", basePay_USTotal[\"Value\"].values)\n",
        "\n",
        "plot = basePay_NYCTotal.plot(kind= 'bar', x='Month', y=['Value', 'USAverage'], figsize=(18,6))\n",
        "plot.set_ylim(45000, 70000)"
      ],
      "execution_count": 0,
      "outputs": [
        {
          "output_type": "execute_result",
          "data": {
            "text/plain": [
              "(45000, 70000)"
            ]
          },
          "metadata": {
            "tags": []
          },
          "execution_count": 131
        },
        {
          "output_type": "display_data",
          "data": {
            "image/png": "[encoded data removed]",
            "text/plain": [
              "<Figure size 1296x432 with 1 Axes>"
            ]
          },
          "metadata": {
            "tags": []
          }
        }
      ]
    },
    {
      "cell_type": "markdown",
      "metadata": {
        "id": "zj-yU0TitkBx",
        "colab_type": "text"
      },
      "source": [
        "## Lets answer some questions with data!"
      ]
    },
    {
      "cell_type": "markdown",
      "metadata": {
        "id": "9_1lc13jtmdc",
        "colab_type": "text"
      },
      "source": [
        "### What is the best city to be a data scientist at?\n",
        "Figure out where data scientists are paid the most and where the profession is growwing the fastest"
      ]
    },
    {
      "cell_type": "code",
      "metadata": {
        "id": "BscZr6vQroKS",
        "colab_type": "code",
        "outputId": "0bc104be-5296-4cbe-f924-de252e6b463b",
        "colab": {
          "base_uri": "https://localhost:8080/",
          "height": 204
        }
      },
      "source": [
        "# Get data scientist job information for current month, lets look at right now first\n",
        "\n",
        "jobTitle_raw = raw_data[raw_data['Dimension Type']=='Job Title']\n",
        "dataScientist_raw = jobTitle_raw[ jobTitle_raw['Dimension'] == 'Data Scientist']\n",
        "\n",
        "# Transform type to be float\n",
        "\n",
        "dataScientist_cleaned = dataScientist_raw['Value'].apply( cleanNumber ).values\n",
        "dataScientist_raw.insert(4, \"Average Salary\", dataScientist_cleaned )\n",
        "dataScientist_raw = dataScientist_raw.astype({'Average Salary' : float})\n",
        "\n",
        "# Check data\n",
        "dataScientist_raw.head()"
      ],
      "execution_count": 0,
      "outputs": [
        {
          "output_type": "execute_result",
          "data": {
            "text/html": [
              "<div>\n",
              "<style scoped>\n",
              "    .dataframe tbody tr th:only-of-type {\n",
              "        vertical-align: middle;\n",
              "    }\n",
              "\n",
              "    .dataframe tbody tr th {\n",
              "        vertical-align: top;\n",
              "    }\n",
              "\n",
              "    .dataframe thead th {\n",
              "        text-align: right;\n",
              "    }\n",
              "</style>\n",
              "<table border=\"1\" class=\"dataframe\">\n",
              "  <thead>\n",
              "    <tr style=\"text-align: right;\">\n",
              "      <th></th>\n",
              "      <th>Metro</th>\n",
              "      <th>Dimension Type</th>\n",
              "      <th>Month</th>\n",
              "      <th>Dimension</th>\n",
              "      <th>Average Salary</th>\n",
              "      <th>Measure</th>\n",
              "      <th>Value</th>\n",
              "      <th>YoY</th>\n",
              "    </tr>\n",
              "  </thead>\n",
              "  <tbody>\n",
              "    <tr>\n",
              "      <th>61</th>\n",
              "      <td>National</td>\n",
              "      <td>Job Title</td>\n",
              "      <td>2020-01</td>\n",
              "      <td>Data Scientist</td>\n",
              "      <td>97652.0</td>\n",
              "      <td>Median Base Pay</td>\n",
              "      <td>$ 97,652</td>\n",
              "      <td>1.6%</td>\n",
              "    </tr>\n",
              "    <tr>\n",
              "      <th>145</th>\n",
              "      <td>Atlanta</td>\n",
              "      <td>Job Title</td>\n",
              "      <td>2020-01</td>\n",
              "      <td>Data Scientist</td>\n",
              "      <td>105001.0</td>\n",
              "      <td>Median Base Pay</td>\n",
              "      <td>$ 105,001</td>\n",
              "      <td>1.9%</td>\n",
              "    </tr>\n",
              "    <tr>\n",
              "      <th>229</th>\n",
              "      <td>New York City</td>\n",
              "      <td>Job Title</td>\n",
              "      <td>2020-01</td>\n",
              "      <td>Data Scientist</td>\n",
              "      <td>118464.0</td>\n",
              "      <td>Median Base Pay</td>\n",
              "      <td>$ 118,464</td>\n",
              "      <td>2.6%</td>\n",
              "    </tr>\n",
              "    <tr>\n",
              "      <th>313</th>\n",
              "      <td>Los Angeles</td>\n",
              "      <td>Job Title</td>\n",
              "      <td>2020-01</td>\n",
              "      <td>Data Scientist</td>\n",
              "      <td>122011.0</td>\n",
              "      <td>Median Base Pay</td>\n",
              "      <td>$ 122,011</td>\n",
              "      <td>2.6%</td>\n",
              "    </tr>\n",
              "    <tr>\n",
              "      <th>397</th>\n",
              "      <td>Philadelphia</td>\n",
              "      <td>Job Title</td>\n",
              "      <td>2020-01</td>\n",
              "      <td>Data Scientist</td>\n",
              "      <td>104963.0</td>\n",
              "      <td>Median Base Pay</td>\n",
              "      <td>$ 104,963</td>\n",
              "      <td>1.0%</td>\n",
              "    </tr>\n",
              "  </tbody>\n",
              "</table>\n",
              "</div>"
            ],
            "text/plain": [
              "             Metro Dimension Type    Month  ...          Measure      Value   YoY\n",
              "61        National      Job Title  2020-01  ...  Median Base Pay   $ 97,652  1.6%\n",
              "145        Atlanta      Job Title  2020-01  ...  Median Base Pay  $ 105,001  1.9%\n",
              "229  New York City      Job Title  2020-01  ...  Median Base Pay  $ 118,464  2.6%\n",
              "313    Los Angeles      Job Title  2020-01  ...  Median Base Pay  $ 122,011  2.6%\n",
              "397   Philadelphia      Job Title  2020-01  ...  Median Base Pay  $ 104,963  1.0%\n",
              "\n",
              "[5 rows x 8 columns]"
            ]
          },
          "metadata": {
            "tags": []
          },
          "execution_count": 132
        }
      ]
    },
    {
      "cell_type": "code",
      "metadata": {
        "id": "vYYOoM58tgD6",
        "colab_type": "code",
        "outputId": "a689eb18-9f6f-4921-b6d4-bf7377fb706b",
        "colab": {
          "base_uri": "https://localhost:8080/",
          "height": 368
        }
      },
      "source": [
        "# Chart data scientist at various locations\n",
        "\n",
        "dataScientist_raw = dataScientist_raw.sort_values(\"Average Salary\", ascending=False)\n",
        "\n",
        "plot = dataScientist_raw.plot.bar(x='Metro', y='Average Salary')\n",
        "plot.set_ylim(90000, 150000)"
      ],
      "execution_count": 0,
      "outputs": [
        {
          "output_type": "execute_result",
          "data": {
            "text/plain": [
              "(90000, 150000)"
            ]
          },
          "metadata": {
            "tags": []
          },
          "execution_count": 133
        },
        {
          "output_type": "display_data",
          "data": {
            "image/png": "[encoded data removed]",
            "text/plain": [
              "<Figure size 432x288 with 1 Axes>"
            ]
          },
          "metadata": {
            "tags": []
          }
        }
      ]
    },
    {
      "cell_type": "code",
      "metadata": {
        "id": "g8WdCXbPvDFS",
        "colab_type": "code",
        "outputId": "0d877d57-4da2-44bc-f9ce-c1b18bb808ed",
        "colab": {
          "base_uri": "https://localhost:8080/",
          "height": 204
        }
      },
      "source": [
        "# Where is it growing the fastest?\n",
        "\n",
        "# Transform YOY data to be float\n",
        "\n",
        "dataScientist_cleaned = dataScientist_raw['YoY'].apply( cleanNumber ).values\n",
        "dataScientist_raw.insert(4, \"YoY Growth\", dataScientist_cleaned )\n",
        "dataScientist_raw = dataScientist_raw.astype({'YoY Growth' : float})\n",
        "\n",
        "# Check data\n",
        "dataScientist_raw.head()"
      ],
      "execution_count": 0,
      "outputs": [
        {
          "output_type": "execute_result",
          "data": {
            "text/html": [
              "<div>\n",
              "<style scoped>\n",
              "    .dataframe tbody tr th:only-of-type {\n",
              "        vertical-align: middle;\n",
              "    }\n",
              "\n",
              "    .dataframe tbody tr th {\n",
              "        vertical-align: top;\n",
              "    }\n",
              "\n",
              "    .dataframe thead th {\n",
              "        text-align: right;\n",
              "    }\n",
              "</style>\n",
              "<table border=\"1\" class=\"dataframe\">\n",
              "  <thead>\n",
              "    <tr style=\"text-align: right;\">\n",
              "      <th></th>\n",
              "      <th>Metro</th>\n",
              "      <th>Dimension Type</th>\n",
              "      <th>Month</th>\n",
              "      <th>Dimension</th>\n",
              "      <th>YoY Growth</th>\n",
              "      <th>Average Salary</th>\n",
              "      <th>Measure</th>\n",
              "      <th>Value</th>\n",
              "      <th>YoY</th>\n",
              "    </tr>\n",
              "  </thead>\n",
              "  <tbody>\n",
              "    <tr>\n",
              "      <th>649</th>\n",
              "      <td>San Francisco</td>\n",
              "      <td>Job Title</td>\n",
              "      <td>2020-01</td>\n",
              "      <td>Data Scientist</td>\n",
              "      <td>2.9</td>\n",
              "      <td>144218.0</td>\n",
              "      <td>Median Base Pay</td>\n",
              "      <td>$ 144,218</td>\n",
              "      <td>2.9%</td>\n",
              "    </tr>\n",
              "    <tr>\n",
              "      <th>565</th>\n",
              "      <td>Seattle</td>\n",
              "      <td>Job Title</td>\n",
              "      <td>2020-01</td>\n",
              "      <td>Data Scientist</td>\n",
              "      <td>1.6</td>\n",
              "      <td>129929.0</td>\n",
              "      <td>Median Base Pay</td>\n",
              "      <td>$ 129,929</td>\n",
              "      <td>1.6%</td>\n",
              "    </tr>\n",
              "    <tr>\n",
              "      <th>313</th>\n",
              "      <td>Los Angeles</td>\n",
              "      <td>Job Title</td>\n",
              "      <td>2020-01</td>\n",
              "      <td>Data Scientist</td>\n",
              "      <td>2.6</td>\n",
              "      <td>122011.0</td>\n",
              "      <td>Median Base Pay</td>\n",
              "      <td>$ 122,011</td>\n",
              "      <td>2.6%</td>\n",
              "    </tr>\n",
              "    <tr>\n",
              "      <th>229</th>\n",
              "      <td>New York City</td>\n",
              "      <td>Job Title</td>\n",
              "      <td>2020-01</td>\n",
              "      <td>Data Scientist</td>\n",
              "      <td>2.6</td>\n",
              "      <td>118464.0</td>\n",
              "      <td>Median Base Pay</td>\n",
              "      <td>$ 118,464</td>\n",
              "      <td>2.6%</td>\n",
              "    </tr>\n",
              "    <tr>\n",
              "      <th>817</th>\n",
              "      <td>Boston</td>\n",
              "      <td>Job Title</td>\n",
              "      <td>2020-01</td>\n",
              "      <td>Data Scientist</td>\n",
              "      <td>2.3</td>\n",
              "      <td>115763.0</td>\n",
              "      <td>Median Base Pay</td>\n",
              "      <td>$ 115,763</td>\n",
              "      <td>2.3%</td>\n",
              "    </tr>\n",
              "  </tbody>\n",
              "</table>\n",
              "</div>"
            ],
            "text/plain": [
              "             Metro Dimension Type    Month  ...          Measure      Value   YoY\n",
              "649  San Francisco      Job Title  2020-01  ...  Median Base Pay  $ 144,218  2.9%\n",
              "565        Seattle      Job Title  2020-01  ...  Median Base Pay  $ 129,929  1.6%\n",
              "313    Los Angeles      Job Title  2020-01  ...  Median Base Pay  $ 122,011  2.6%\n",
              "229  New York City      Job Title  2020-01  ...  Median Base Pay  $ 118,464  2.6%\n",
              "817         Boston      Job Title  2020-01  ...  Median Base Pay  $ 115,763  2.3%\n",
              "\n",
              "[5 rows x 9 columns]"
            ]
          },
          "metadata": {
            "tags": []
          },
          "execution_count": 134
        }
      ]
    },
    {
      "cell_type": "code",
      "metadata": {
        "id": "OkCsCdcav_OX",
        "colab_type": "code",
        "outputId": "27f81446-0ca8-4679-e243-a36ebdeace90",
        "colab": {
          "base_uri": "https://localhost:8080/",
          "height": 347
        }
      },
      "source": [
        "# Chart Growth \n",
        "\n",
        "dataScientist_raw = dataScientist_raw.sort_values(\"YoY Growth\", ascending=False)\n",
        "\n",
        "plot = dataScientist_raw.plot.bar(x='Metro', y='YoY Growth')"
      ],
      "execution_count": 0,
      "outputs": [
        {
          "output_type": "display_data",
          "data": {
            "image/png": "[encoded data removed]",
            "text/plain": [
              "<Figure size 432x288 with 1 Axes>"
            ]
          },
          "metadata": {
            "tags": []
          }
        }
      ]
    },
    {
      "cell_type": "code",
      "metadata": {
        "id": "rFU3j9x8wWoD",
        "colab_type": "code",
        "colab": {}
      },
      "source": [
        "# Finaly, lets extrapolate basted on current growth rates across the next few years\n",
        "\n",
        "oneYearSalary = dataScientist_raw['Average Salary'] * ( 1 + (dataScientist_raw['YoY Growth'])/100 )\n",
        "twoYearSalary = dataScientist_raw['Average Salary'] * ( ( 1 + (dataScientist_raw['YoY Growth'])/100 ) ** 2 ) \n",
        "threeYearSalary = dataScientist_raw['Average Salary'] * ( ( 1 + (dataScientist_raw['YoY Growth'])/100 ) ** 3 )\n",
        "\n",
        "dataScientist_raw.insert(4, \"Salary in 1 year\", oneYearSalary )\n",
        "dataScientist_raw.insert(4, \"Salary in 2 years\", twoYearSalary )\n",
        "dataScientist_raw.insert(4, \"Salary in 3 years\", threeYearSalary )"
      ],
      "execution_count": 0,
      "outputs": []
    },
    {
      "cell_type": "code",
      "metadata": {
        "id": "L7tSXL2Rwvog",
        "colab_type": "code",
        "outputId": "cc7351f6-ce29-45e2-928e-843a2733f25d",
        "colab": {
          "base_uri": "https://localhost:8080/",
          "height": 368
        }
      },
      "source": [
        "# Chart future value ( projected )\n",
        "\n",
        "dataScientist_raw = dataScientist_raw.sort_values(\"Salary in 3 years\", ascending=False)\n",
        "\n",
        "plot = dataScientist_raw.plot.bar(x='Metro', y=['Salary in 3 years','Average Salary'] )\n",
        "plot.set_ylim(90000, 180000)"
      ],
      "execution_count": 0,
      "outputs": [
        {
          "output_type": "execute_result",
          "data": {
            "text/plain": [
              "(90000, 180000)"
            ]
          },
          "metadata": {
            "tags": []
          },
          "execution_count": 137
        },
        {
          "output_type": "display_data",
          "data": {
            "image/png": "[encoded data removed]",
            "text/plain": [
              "<Figure size 432x288 with 1 Axes>"
            ]
          },
          "metadata": {
            "tags": []
          }
        }
      ]
    },
    {
      "cell_type": "markdown",
      "metadata": {
        "id": "OhvfclMUyJN9",
        "colab_type": "text"
      },
      "source": [
        "### Most likely city to get a job at\n",
        "\n",
        "Lets see how number of jobs are changin over time in different cities\n"
      ]
    },
    {
      "cell_type": "code",
      "metadata": {
        "id": "dq4R_zHcxYMx",
        "colab_type": "code",
        "outputId": "159789e0-c967-41e3-cf10-16196e858ce9",
        "colab": {
          "base_uri": "https://localhost:8080/",
          "height": 204
        }
      },
      "source": [
        "# Find YOY growth / loss in jobs across cities\n",
        "\n",
        "jobOpenings = raw_data[raw_data['Dimension Type']=='Quick Facts']\n",
        "jobOpenings = jobOpenings[ jobOpenings['Dimension'] == 'Metro Job Openings']\n",
        "\n",
        "# Transform type to be float\n",
        "\n",
        "jobOpenings_cleanNumber = jobOpenings['Value'].apply( cleanNumber ).values\n",
        "jobOpenings_cleanChange = jobOpenings['YoY'].apply( cleanNumber ).values\n",
        "\n",
        "jobOpenings.insert(4, \"Open Jobs\", jobOpenings_cleanNumber )\n",
        "jobOpenings = jobOpenings.astype({'Open Jobs' : float})\n",
        "\n",
        "jobOpenings.insert(4, \"YoY Change\", jobOpenings_cleanChange )\n",
        "jobOpenings = jobOpenings.astype({'YoY Change' : float})\n",
        "\n",
        "# Check data\n",
        "jobOpenings.head()"
      ],
      "execution_count": 0,
      "outputs": [
        {
          "output_type": "execute_result",
          "data": {
            "text/html": [
              "<div>\n",
              "<style scoped>\n",
              "    .dataframe tbody tr th:only-of-type {\n",
              "        vertical-align: middle;\n",
              "    }\n",
              "\n",
              "    .dataframe tbody tr th {\n",
              "        vertical-align: top;\n",
              "    }\n",
              "\n",
              "    .dataframe thead th {\n",
              "        text-align: right;\n",
              "    }\n",
              "</style>\n",
              "<table border=\"1\" class=\"dataframe\">\n",
              "  <thead>\n",
              "    <tr style=\"text-align: right;\">\n",
              "      <th></th>\n",
              "      <th>Metro</th>\n",
              "      <th>Dimension Type</th>\n",
              "      <th>Month</th>\n",
              "      <th>Dimension</th>\n",
              "      <th>YoY Change</th>\n",
              "      <th>Open Jobs</th>\n",
              "      <th>Measure</th>\n",
              "      <th>Value</th>\n",
              "      <th>YoY</th>\n",
              "    </tr>\n",
              "  </thead>\n",
              "  <tbody>\n",
              "    <tr>\n",
              "      <th>2</th>\n",
              "      <td>Atlanta</td>\n",
              "      <td>Quick Facts</td>\n",
              "      <td>2020-01</td>\n",
              "      <td>Metro Job Openings</td>\n",
              "      <td>-12.5</td>\n",
              "      <td>108545.0</td>\n",
              "      <td>Metro Job Openings</td>\n",
              "      <td>108,545</td>\n",
              "      <td>-12.5%</td>\n",
              "    </tr>\n",
              "    <tr>\n",
              "      <th>6</th>\n",
              "      <td>New York City</td>\n",
              "      <td>Quick Facts</td>\n",
              "      <td>2020-01</td>\n",
              "      <td>Metro Job Openings</td>\n",
              "      <td>-4.6</td>\n",
              "      <td>288813.0</td>\n",
              "      <td>Metro Job Openings</td>\n",
              "      <td>288,813</td>\n",
              "      <td>-4.6%</td>\n",
              "    </tr>\n",
              "    <tr>\n",
              "      <th>10</th>\n",
              "      <td>Los Angeles</td>\n",
              "      <td>Quick Facts</td>\n",
              "      <td>2020-01</td>\n",
              "      <td>Metro Job Openings</td>\n",
              "      <td>-1.3</td>\n",
              "      <td>207092.0</td>\n",
              "      <td>Metro Job Openings</td>\n",
              "      <td>207,092</td>\n",
              "      <td>-1.3%</td>\n",
              "    </tr>\n",
              "    <tr>\n",
              "      <th>14</th>\n",
              "      <td>Philadelphia</td>\n",
              "      <td>Quick Facts</td>\n",
              "      <td>2020-01</td>\n",
              "      <td>Metro Job Openings</td>\n",
              "      <td>-1.3</td>\n",
              "      <td>109104.0</td>\n",
              "      <td>Metro Job Openings</td>\n",
              "      <td>109,104</td>\n",
              "      <td>-1.3%</td>\n",
              "    </tr>\n",
              "    <tr>\n",
              "      <th>18</th>\n",
              "      <td>Houston</td>\n",
              "      <td>Quick Facts</td>\n",
              "      <td>2020-01</td>\n",
              "      <td>Metro Job Openings</td>\n",
              "      <td>-7.0</td>\n",
              "      <td>89578.0</td>\n",
              "      <td>Metro Job Openings</td>\n",
              "      <td>89,578</td>\n",
              "      <td>-7.0%</td>\n",
              "    </tr>\n",
              "  </tbody>\n",
              "</table>\n",
              "</div>"
            ],
            "text/plain": [
              "            Metro Dimension Type    Month  ...             Measure    Value     YoY\n",
              "2         Atlanta    Quick Facts  2020-01  ...  Metro Job Openings  108,545  -12.5%\n",
              "6   New York City    Quick Facts  2020-01  ...  Metro Job Openings  288,813   -4.6%\n",
              "10    Los Angeles    Quick Facts  2020-01  ...  Metro Job Openings  207,092   -1.3%\n",
              "14   Philadelphia    Quick Facts  2020-01  ...  Metro Job Openings  109,104   -1.3%\n",
              "18        Houston    Quick Facts  2020-01  ...  Metro Job Openings   89,578   -7.0%\n",
              "\n",
              "[5 rows x 9 columns]"
            ]
          },
          "metadata": {
            "tags": []
          },
          "execution_count": 142
        }
      ]
    },
    {
      "cell_type": "code",
      "metadata": {
        "id": "_HO2-P2YzA-s",
        "colab_type": "code",
        "outputId": "245c712c-008f-4d1d-b935-5347f89f8bdc",
        "colab": {
          "base_uri": "https://localhost:8080/",
          "height": 347
        }
      },
      "source": [
        "# Lets see how number of open jobs are changing across the US\n",
        "\n",
        "jobOpenings = jobOpenings.sort_values(\"YoY Change\", ascending=False)\n",
        "\n",
        "plot = jobOpenings.plot.bar(x='Metro', y='YoY Change', color = (jobOpenings['YoY Change'] > 0 ).map({True: 'g', False: 'r'}))"
      ],
      "execution_count": 0,
      "outputs": [
        {
          "output_type": "display_data",
          "data": {
            "image/png": "[encoded data removed]",
            "text/plain": [
              "<Figure size 432x288 with 1 Axes>"
            ]
          },
          "metadata": {
            "tags": []
          }
        }
      ]
    },
    {
      "cell_type": "code",
      "metadata": {
        "id": "ZF-NYJfUzf76",
        "colab_type": "code",
        "colab": {}
      },
      "source": [
        "# Lets try to extrapolate this out a few years and see opening if things stay at this rate\n",
        "\n",
        "\n",
        "oneYearJobs = jobOpenings['Open Jobs'] * ( 1 + (jobOpenings['YoY Change'])/100 )\n",
        "twoYearJobs = jobOpenings['Open Jobs'] * ( ( 1 + (jobOpenings['YoY Change'])/100 ) ** 2 ) \n",
        "threeYearJobs = jobOpenings['Open Jobs'] * ( ( 1 + (jobOpenings['YoY Change'])/100 ) ** 3 )\n",
        "\n",
        "jobOpenings.insert(4, \"Jobs in 1 year\", oneYearJobs )\n",
        "jobOpenings.insert(4, \"Jobs in 2 years\", twoYearJobs )\n",
        "jobOpenings.insert(4, \"Jobs in 3 years\", threeYearJobs )"
      ],
      "execution_count": 0,
      "outputs": []
    },
    {
      "cell_type": "code",
      "metadata": {
        "id": "tlsQEobu0job",
        "colab_type": "code",
        "outputId": "bdfc2210-8657-4612-b750-78aadda6aae4",
        "colab": {
          "base_uri": "https://localhost:8080/",
          "height": 348
        }
      },
      "source": [
        "# in three years, if the rate stays the exact same\n",
        "\n",
        "jobOpenings = jobOpenings.sort_values(\"Jobs in 3 years\", ascending=False)\n",
        "\n",
        "plot = jobOpenings.plot.bar(x='Metro', y=['Jobs in 3 years','Open Jobs'] )"
      ],
      "execution_count": 0,
      "outputs": [
        {
          "output_type": "display_data",
          "data": {
            "image/png": "[encoded data removed]",
            "text/plain": [
              "<Figure size 432x288 with 1 Axes>"
            ]
          },
          "metadata": {
            "tags": []
          }
        }
      ]
    },
    {
      "cell_type": "code",
      "metadata": {
        "id": "RM9ubBWY0xQQ",
        "colab_type": "code",
        "colab": {}
      },
      "source": [
        ""
      ],
      "execution_count": 0,
      "outputs": []
    }
  ]
}